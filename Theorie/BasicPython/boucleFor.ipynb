{
 "cells": [
  {
   "cell_type": "code",
   "execution_count": null,
   "id": "2234ea0c-5446-4a51-ba8c-d0de0185b5e4",
   "metadata": {},
   "outputs": [],
   "source": [
    "import numpy as np  "
   ]
  },
  {
   "cell_type": "code",
   "execution_count": null,
   "id": "f0e567ad-bb0a-41be-ad0e-fde8fd02ef94",
   "metadata": {},
   "outputs": [],
   "source": [
    "xs  = np.arange(0.,10,0.1)"
   ]
  },
  {
   "cell_type": "code",
   "execution_count": null,
   "id": "3e39b025-55e9-4c98-aadc-284874355168",
   "metadata": {},
   "outputs": [],
   "source": [
    "print('Taille du vecteur xs:',xs.shape)"
   ]
  },
  {
   "cell_type": "markdown",
   "id": "4e776a54-4bd4-4986-a81d-62c5ab1a526c",
   "metadata": {},
   "source": [
    "Pour chaque element de xs, on va calculer  $$f(x)=1+2x^2$$"
   ]
  },
  {
   "cell_type": "code",
   "execution_count": null,
   "id": "53458b26-611f-425e-a472-f1603eb356ea",
   "metadata": {},
   "outputs": [],
   "source": [
    "fxs = []                           # Préparation d une liste pour stocker les valeurs qui sont calculees dans la boucle\n",
    "for x in xs:\n",
    "    fx = 1.+2.*x**2                 # Calcul de la valeur de la fonction\n",
    "    fxs.append(fx)                 # Le resultat est ajouté a la fin de la liste"
   ]
  },
  {
   "cell_type": "code",
   "execution_count": null,
   "id": "a3e45b2e-22fc-4e08-9c33-e208e6b45d78",
   "metadata": {},
   "outputs": [],
   "source": [
    "print('Taille de fxs:',len(fxs))"
   ]
  },
  {
   "cell_type": "code",
   "execution_count": null,
   "id": "e50f4a82-fc9e-49e5-b163-9c19e5a9d0ad",
   "metadata": {},
   "outputs": [],
   "source": [
    "print('Type de xs:',type(xs),' Type de fxs:', type(fxs)) # Le type informatique de chacune des objets informatiques"
   ]
  }
 ],
 "metadata": {
  "kernelspec": {
   "display_name": "Python 3 (ipykernel)",
   "language": "python",
   "name": "python3"
  },
  "language_info": {
   "codemirror_mode": {
    "name": "ipython",
    "version": 3
   },
   "file_extension": ".py",
   "mimetype": "text/x-python",
   "name": "python",
   "nbconvert_exporter": "python",
   "pygments_lexer": "ipython3",
   "version": "3.8.19"
  }
 },
 "nbformat": 4,
 "nbformat_minor": 5
}
