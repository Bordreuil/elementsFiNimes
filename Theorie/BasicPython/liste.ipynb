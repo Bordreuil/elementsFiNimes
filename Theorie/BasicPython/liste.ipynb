{
 "cells": [
  {
   "cell_type": "code",
   "execution_count": null,
   "id": "688d4225-bc51-4996-a13a-65b6949eb6e5",
   "metadata": {},
   "outputs": [],
   "source": [
    "ls = ['une',1,'liste',2,'donnees']"
   ]
  },
  {
   "cell_type": "code",
   "execution_count": null,
   "id": "917e18db-45a9-48a5-8f9d-2480f29a0df5",
   "metadata": {},
   "outputs": [],
   "source": [
    "print('Le premier terme de la liste:',ls[0])"
   ]
  },
  {
   "cell_type": "code",
   "execution_count": null,
   "id": "e89dc3c2-ff80-4e48-8ebb-450b0094b74e",
   "metadata": {},
   "outputs": [],
   "source": [
    "print('Le dernier terme de la liste:',ls[-1])"
   ]
  },
  {
   "cell_type": "code",
   "execution_count": null,
   "id": "8b5445e4-2e95-42f2-8319-fc5d1c24becd",
   "metadata": {},
   "outputs": [],
   "source": [
    "for i in range(len(ls)):\n",
    "    print('Terme:',i,' de la liste:',ls[i])"
   ]
  }
 ],
 "metadata": {
  "kernelspec": {
   "display_name": "Python 3 (ipykernel)",
   "language": "python",
   "name": "python3"
  },
  "language_info": {
   "codemirror_mode": {
    "name": "ipython",
    "version": 3
   },
   "file_extension": ".py",
   "mimetype": "text/x-python",
   "name": "python",
   "nbconvert_exporter": "python",
   "pygments_lexer": "ipython3",
   "version": "3.8.19"
  }
 },
 "nbformat": 4,
 "nbformat_minor": 5
}
