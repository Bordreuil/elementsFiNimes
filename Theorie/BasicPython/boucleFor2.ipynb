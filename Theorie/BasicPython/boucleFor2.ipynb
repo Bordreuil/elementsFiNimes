{
 "cells": [
  {
   "cell_type": "code",
   "execution_count": null,
   "id": "97589546-7713-4e5d-9c88-7c59a61ed3b1",
   "metadata": {},
   "outputs": [],
   "source": [
    "import numpy as np"
   ]
  },
  {
   "cell_type": "code",
   "execution_count": null,
   "id": "61c497cd-9594-4f20-8c3d-ca3eb3763b34",
   "metadata": {},
   "outputs": [],
   "source": [
    "ns = range(10)                       # Creation d une liste de 10 elements allant de 1 à 9"
   ]
  },
  {
   "cell_type": "code",
   "execution_count": null,
   "id": "b6e62dda-81a1-43a9-a86c-c7c294408596",
   "metadata": {},
   "outputs": [],
   "source": [
    "us = []                                # Initialisation de la liste stockant les resultats de la suite\n",
    "for n in ns:\n",
    "    u = n/(n+1)**2                     # Calcul de la suite\n",
    "    us.append(u)"
   ]
  },
  {
   "cell_type": "code",
   "execution_count": null,
   "id": "2fd17015-19d9-4343-a291-05984ed75a59",
   "metadata": {},
   "outputs": [],
   "source": [
    "import matplotlib.pyplot as plt\n",
    "plt.plot(ns,us)\n",
    "plt.xlabel('Entier n')\n",
    "plt.ylabel('Suite $u_n$')"
   ]
  }
 ],
 "metadata": {
  "kernelspec": {
   "display_name": "Python 3 (ipykernel)",
   "language": "python",
   "name": "python3"
  },
  "language_info": {
   "codemirror_mode": {
    "name": "ipython",
    "version": 3
   },
   "file_extension": ".py",
   "mimetype": "text/x-python",
   "name": "python",
   "nbconvert_exporter": "python",
   "pygments_lexer": "ipython3",
   "version": "3.8.19"
  }
 },
 "nbformat": 4,
 "nbformat_minor": 5
}
