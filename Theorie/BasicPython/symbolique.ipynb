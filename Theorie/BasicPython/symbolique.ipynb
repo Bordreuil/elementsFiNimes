{
 "cells": [
  {
   "cell_type": "code",
   "execution_count": 1,
   "id": "49ce2db0-d64c-4768-a0b6-c70816d4c8bb",
   "metadata": {},
   "outputs": [],
   "source": [
    "from sympy import *"
   ]
  },
  {
   "cell_type": "code",
   "execution_count": 2,
   "id": "8d3097f8-2a57-49a9-aa84-029334a2f259",
   "metadata": {},
   "outputs": [],
   "source": [
    "x  = Symbol('x')"
   ]
  },
  {
   "cell_type": "code",
   "execution_count": 3,
   "id": "ade89b4b-2d74-4c06-9371-ca11b3702438",
   "metadata": {},
   "outputs": [],
   "source": [
    "pi = Symbol('pi')\n",
    "L  = Symbol('L')"
   ]
  },
  {
   "cell_type": "markdown",
   "id": "dd9bb781-992c-485b-90a2-003fc1f16d65",
   "metadata": {},
   "source": [
    "$$F(x) = sin (\\frac{\\pi}{L} x)$$"
   ]
  },
  {
   "cell_type": "code",
   "execution_count": 4,
   "id": "52b86463-f3ae-41d4-8c54-c164235c046e",
   "metadata": {},
   "outputs": [],
   "source": [
    "fx = sin(pi/L*x)"
   ]
  },
  {
   "cell_type": "code",
   "execution_count": 5,
   "id": "0e796a90-3312-40fa-8579-9c35f9f26c53",
   "metadata": {},
   "outputs": [
    {
     "name": "stdout",
     "output_type": "stream",
     "text": [
      "Derivee: pi*cos(pi*x/L)/L\n"
     ]
    }
   ],
   "source": [
    "print('Derivee:',diff(fx,x))"
   ]
  },
  {
   "cell_type": "code",
   "execution_count": null,
   "id": "e53418a5-92a7-4f31-864c-59a18a535902",
   "metadata": {},
   "outputs": [],
   "source": []
  }
 ],
 "metadata": {
  "kernelspec": {
   "display_name": "Python 3 (ipykernel)",
   "language": "python",
   "name": "python3"
  },
  "language_info": {
   "codemirror_mode": {
    "name": "ipython",
    "version": 3
   },
   "file_extension": ".py",
   "mimetype": "text/x-python",
   "name": "python",
   "nbconvert_exporter": "python",
   "pygments_lexer": "ipython3",
   "version": "3.8.19"
  }
 },
 "nbformat": 4,
 "nbformat_minor": 5
}
