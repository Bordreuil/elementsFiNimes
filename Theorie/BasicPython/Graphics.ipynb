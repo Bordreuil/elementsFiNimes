{
 "cells": [
  {
   "cell_type": "code",
   "execution_count": null,
   "id": "9744c8b7-224d-4265-b727-aedde6eea869",
   "metadata": {},
   "outputs": [],
   "source": [
    "import matplotlib.pyplot as plt # importation du module pour tracer des graphiques\n",
    "import numpy as np              # importation du module pour manipuler les tableaux (matrices)"
   ]
  },
  {
   "cell_type": "code",
   "execution_count": null,
   "id": "91f32900-1aa2-485e-8001-c3f566ecb835",
   "metadata": {},
   "outputs": [],
   "source": [
    "x = np.arange(0.,6.*np.pi,0.1)  # Creation d un vecteur de valeurs allant de 0 à 6pi avec une distance de 0.1 entre chaque point"
   ]
  },
  {
   "cell_type": "code",
   "execution_count": null,
   "id": "bbdf670a-6064-403f-98ec-222d2c71531a",
   "metadata": {},
   "outputs": [],
   "source": [
    "plt.plot(x,np.cos(x))              # Creation de la visualisation de la fonction cos(x)"
   ]
  },
  {
   "cell_type": "code",
   "execution_count": null,
   "id": "f5cfdd5f-df49-45dd-be62-d93499aa1e75",
   "metadata": {},
   "outputs": [],
   "source": [
    "plt.plot(x,np.cos(x))\n",
    "plt.xlabel('Angle en radians')\n",
    "plt.ylabel('cos(x)')"
   ]
  },
  {
   "cell_type": "code",
   "execution_count": null,
   "id": "54a1294c-93c3-4a48-afa1-ed98e08cf628",
   "metadata": {},
   "outputs": [],
   "source": [
    "plt.show()                             # Dans un script, on demande de visualiser les graphes sinon il reste en mémoire"
   ]
  }
 ],
 "metadata": {
  "kernelspec": {
   "display_name": "Python 3 (ipykernel)",
   "language": "python",
   "name": "python3"
  },
  "language_info": {
   "codemirror_mode": {
    "name": "ipython",
    "version": 3
   },
   "file_extension": ".py",
   "mimetype": "text/x-python",
   "name": "python",
   "nbconvert_exporter": "python",
   "pygments_lexer": "ipython3",
   "version": "3.8.19"
  }
 },
 "nbformat": 4,
 "nbformat_minor": 5
}
