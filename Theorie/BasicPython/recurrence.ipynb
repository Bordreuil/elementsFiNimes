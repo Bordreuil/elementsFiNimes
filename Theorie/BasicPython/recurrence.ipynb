{
 "cells": [
  {
   "cell_type": "markdown",
   "id": "083b5643-0d3b-4f6b-a419-a629dd9decd7",
   "metadata": {},
   "source": [
    "On veut calculer une suite definie par recurrence avec $u_0=5$ et $u_{n+1}=2*u_n+(n+2)^2$.\n",
    "\n",
    "On a besoin d'une liste d'entier, d'un stockage du resultat."
   ]
  },
  {
   "cell_type": "code",
   "execution_count": null,
   "id": "cdbc8e2c-e91c-49a7-8b9a-b1f4d33cff3a",
   "metadata": {},
   "outputs": [],
   "source": [
    "import numpy as np"
   ]
  },
  {
   "cell_type": "code",
   "execution_count": null,
   "id": "0662cae3-a436-493a-b320-c7f3b8599df6",
   "metadata": {},
   "outputs": [],
   "source": [
    "uns = [5]                  # Creation de la liste pour stocker les termes de la suite par recurrence"
   ]
  },
  {
   "cell_type": "code",
   "execution_count": null,
   "id": "7f1fc954-7eac-4bbe-a7bc-ad01a76cc1f3",
   "metadata": {},
   "outputs": [],
   "source": [
    "for n in range(1,10):\n",
    "    unp1 = 2*uns[-1]+(n+2)**2\n",
    "    uns.append(unp1)\n",
    "    print(uns)"
   ]
  }
 ],
 "metadata": {
  "kernelspec": {
   "display_name": "Python 3 (ipykernel)",
   "language": "python",
   "name": "python3"
  },
  "language_info": {
   "codemirror_mode": {
    "name": "ipython",
    "version": 3
   },
   "file_extension": ".py",
   "mimetype": "text/x-python",
   "name": "python",
   "nbconvert_exporter": "python",
   "pygments_lexer": "ipython3",
   "version": "3.8.19"
  }
 },
 "nbformat": 4,
 "nbformat_minor": 5
}
